{
  "cells": [
    {
      "cell_type": "code",
      "execution_count": 1,
      "metadata": {
        "id": "sAeG-HQg6ZPZ"
      },
      "outputs": [],
      "source": [
        "import pandas as pd \n",
        "import numpy as np\n",
        "import matplotlib.pyplot as plt\n",
        "import warnings\n",
        "warnings.filterwarnings('ignore')"
      ]
    },
    {
      "cell_type": "code",
      "execution_count": 2,
      "metadata": {
        "id": "FN6JyyFw8BYw"
      },
      "outputs": [],
      "source": [
        "ac = pd.read_csv('/content/Machine Learning Coursework.csv')         #load csv file"
      ]
    },
    {
      "cell_type": "markdown",
      "metadata": {
        "id": "wrDV5rGkpMEV"
      },
      "source": [
        "**DATA EXPLORATION**"
      ]
    },
    {
      "cell_type": "code",
      "execution_count": 3,
      "metadata": {
        "colab": {
          "base_uri": "https://localhost:8080/",
          "height": 270
        },
        "id": "5l_NHu6z8q2i",
        "outputId": "f3c5d1d5-626e-4278-e0ec-a603a275f7a3"
      },
      "outputs": [
        {
          "output_type": "execute_result",
          "data": {
            "text/plain": [
              "       id  Gender   Age  HasDrivingLicense  RegionID  Switch VehicleAge  \\\n",
              "0  332804  Female  39.0                1.0      15.0     0.0   1-2 Year   \n",
              "1  116249    Male  38.0                1.0      11.0     NaN   1-2 Year   \n",
              "2  255006    Male  22.0                1.0      30.0     NaN   < 1 Year   \n",
              "3  317475  Female  23.0                1.0       NaN     NaN   < 1 Year   \n",
              "4  344213    Male  56.0                1.0      48.0     0.0  > 2 Years   \n",
              "\n",
              "  PastAccident AnnualPremium  SalesChannelID  DaysSinceCreated  Result  \n",
              "0          NaN     £2,645.30              55               227       1  \n",
              "1          NaN     £1,151.90              26                29       0  \n",
              "2          NaN     £2,265.90             152               166       0  \n",
              "3          NaN     £1,456.60             151               277       0  \n",
              "4          NaN       £131.50             154               155       0  "
            ],
            "text/html": [
              "\n",
              "  <div id=\"df-8d0b817b-7c0a-42a4-8102-cf247a9e1db7\">\n",
              "    <div class=\"colab-df-container\">\n",
              "      <div>\n",
              "<style scoped>\n",
              "    .dataframe tbody tr th:only-of-type {\n",
              "        vertical-align: middle;\n",
              "    }\n",
              "\n",
              "    .dataframe tbody tr th {\n",
              "        vertical-align: top;\n",
              "    }\n",
              "\n",
              "    .dataframe thead th {\n",
              "        text-align: right;\n",
              "    }\n",
              "</style>\n",
              "<table border=\"1\" class=\"dataframe\">\n",
              "  <thead>\n",
              "    <tr style=\"text-align: right;\">\n",
              "      <th></th>\n",
              "      <th>id</th>\n",
              "      <th>Gender</th>\n",
              "      <th>Age</th>\n",
              "      <th>HasDrivingLicense</th>\n",
              "      <th>RegionID</th>\n",
              "      <th>Switch</th>\n",
              "      <th>VehicleAge</th>\n",
              "      <th>PastAccident</th>\n",
              "      <th>AnnualPremium</th>\n",
              "      <th>SalesChannelID</th>\n",
              "      <th>DaysSinceCreated</th>\n",
              "      <th>Result</th>\n",
              "    </tr>\n",
              "  </thead>\n",
              "  <tbody>\n",
              "    <tr>\n",
              "      <th>0</th>\n",
              "      <td>332804</td>\n",
              "      <td>Female</td>\n",
              "      <td>39.0</td>\n",
              "      <td>1.0</td>\n",
              "      <td>15.0</td>\n",
              "      <td>0.0</td>\n",
              "      <td>1-2 Year</td>\n",
              "      <td>NaN</td>\n",
              "      <td>£2,645.30</td>\n",
              "      <td>55</td>\n",
              "      <td>227</td>\n",
              "      <td>1</td>\n",
              "    </tr>\n",
              "    <tr>\n",
              "      <th>1</th>\n",
              "      <td>116249</td>\n",
              "      <td>Male</td>\n",
              "      <td>38.0</td>\n",
              "      <td>1.0</td>\n",
              "      <td>11.0</td>\n",
              "      <td>NaN</td>\n",
              "      <td>1-2 Year</td>\n",
              "      <td>NaN</td>\n",
              "      <td>£1,151.90</td>\n",
              "      <td>26</td>\n",
              "      <td>29</td>\n",
              "      <td>0</td>\n",
              "    </tr>\n",
              "    <tr>\n",
              "      <th>2</th>\n",
              "      <td>255006</td>\n",
              "      <td>Male</td>\n",
              "      <td>22.0</td>\n",
              "      <td>1.0</td>\n",
              "      <td>30.0</td>\n",
              "      <td>NaN</td>\n",
              "      <td>&lt; 1 Year</td>\n",
              "      <td>NaN</td>\n",
              "      <td>£2,265.90</td>\n",
              "      <td>152</td>\n",
              "      <td>166</td>\n",
              "      <td>0</td>\n",
              "    </tr>\n",
              "    <tr>\n",
              "      <th>3</th>\n",
              "      <td>317475</td>\n",
              "      <td>Female</td>\n",
              "      <td>23.0</td>\n",
              "      <td>1.0</td>\n",
              "      <td>NaN</td>\n",
              "      <td>NaN</td>\n",
              "      <td>&lt; 1 Year</td>\n",
              "      <td>NaN</td>\n",
              "      <td>£1,456.60</td>\n",
              "      <td>151</td>\n",
              "      <td>277</td>\n",
              "      <td>0</td>\n",
              "    </tr>\n",
              "    <tr>\n",
              "      <th>4</th>\n",
              "      <td>344213</td>\n",
              "      <td>Male</td>\n",
              "      <td>56.0</td>\n",
              "      <td>1.0</td>\n",
              "      <td>48.0</td>\n",
              "      <td>0.0</td>\n",
              "      <td>&gt; 2 Years</td>\n",
              "      <td>NaN</td>\n",
              "      <td>£131.50</td>\n",
              "      <td>154</td>\n",
              "      <td>155</td>\n",
              "      <td>0</td>\n",
              "    </tr>\n",
              "  </tbody>\n",
              "</table>\n",
              "</div>\n",
              "      <button class=\"colab-df-convert\" onclick=\"convertToInteractive('df-8d0b817b-7c0a-42a4-8102-cf247a9e1db7')\"\n",
              "              title=\"Convert this dataframe to an interactive table.\"\n",
              "              style=\"display:none;\">\n",
              "        \n",
              "  <svg xmlns=\"http://www.w3.org/2000/svg\" height=\"24px\"viewBox=\"0 0 24 24\"\n",
              "       width=\"24px\">\n",
              "    <path d=\"M0 0h24v24H0V0z\" fill=\"none\"/>\n",
              "    <path d=\"M18.56 5.44l.94 2.06.94-2.06 2.06-.94-2.06-.94-.94-2.06-.94 2.06-2.06.94zm-11 1L8.5 8.5l.94-2.06 2.06-.94-2.06-.94L8.5 2.5l-.94 2.06-2.06.94zm10 10l.94 2.06.94-2.06 2.06-.94-2.06-.94-.94-2.06-.94 2.06-2.06.94z\"/><path d=\"M17.41 7.96l-1.37-1.37c-.4-.4-.92-.59-1.43-.59-.52 0-1.04.2-1.43.59L10.3 9.45l-7.72 7.72c-.78.78-.78 2.05 0 2.83L4 21.41c.39.39.9.59 1.41.59.51 0 1.02-.2 1.41-.59l7.78-7.78 2.81-2.81c.8-.78.8-2.07 0-2.86zM5.41 20L4 18.59l7.72-7.72 1.47 1.35L5.41 20z\"/>\n",
              "  </svg>\n",
              "      </button>\n",
              "      \n",
              "  <style>\n",
              "    .colab-df-container {\n",
              "      display:flex;\n",
              "      flex-wrap:wrap;\n",
              "      gap: 12px;\n",
              "    }\n",
              "\n",
              "    .colab-df-convert {\n",
              "      background-color: #E8F0FE;\n",
              "      border: none;\n",
              "      border-radius: 50%;\n",
              "      cursor: pointer;\n",
              "      display: none;\n",
              "      fill: #1967D2;\n",
              "      height: 32px;\n",
              "      padding: 0 0 0 0;\n",
              "      width: 32px;\n",
              "    }\n",
              "\n",
              "    .colab-df-convert:hover {\n",
              "      background-color: #E2EBFA;\n",
              "      box-shadow: 0px 1px 2px rgba(60, 64, 67, 0.3), 0px 1px 3px 1px rgba(60, 64, 67, 0.15);\n",
              "      fill: #174EA6;\n",
              "    }\n",
              "\n",
              "    [theme=dark] .colab-df-convert {\n",
              "      background-color: #3B4455;\n",
              "      fill: #D2E3FC;\n",
              "    }\n",
              "\n",
              "    [theme=dark] .colab-df-convert:hover {\n",
              "      background-color: #434B5C;\n",
              "      box-shadow: 0px 1px 3px 1px rgba(0, 0, 0, 0.15);\n",
              "      filter: drop-shadow(0px 1px 2px rgba(0, 0, 0, 0.3));\n",
              "      fill: #FFFFFF;\n",
              "    }\n",
              "  </style>\n",
              "\n",
              "      <script>\n",
              "        const buttonEl =\n",
              "          document.querySelector('#df-8d0b817b-7c0a-42a4-8102-cf247a9e1db7 button.colab-df-convert');\n",
              "        buttonEl.style.display =\n",
              "          google.colab.kernel.accessAllowed ? 'block' : 'none';\n",
              "\n",
              "        async function convertToInteractive(key) {\n",
              "          const element = document.querySelector('#df-8d0b817b-7c0a-42a4-8102-cf247a9e1db7');\n",
              "          const dataTable =\n",
              "            await google.colab.kernel.invokeFunction('convertToInteractive',\n",
              "                                                     [key], {});\n",
              "          if (!dataTable) return;\n",
              "\n",
              "          const docLinkHtml = 'Like what you see? Visit the ' +\n",
              "            '<a target=\"_blank\" href=https://colab.research.google.com/notebooks/data_table.ipynb>data table notebook</a>'\n",
              "            + ' to learn more about interactive tables.';\n",
              "          element.innerHTML = '';\n",
              "          dataTable['output_type'] = 'display_data';\n",
              "          await google.colab.output.renderOutput(dataTable, element);\n",
              "          const docLink = document.createElement('div');\n",
              "          docLink.innerHTML = docLinkHtml;\n",
              "          element.appendChild(docLink);\n",
              "        }\n",
              "      </script>\n",
              "    </div>\n",
              "  </div>\n",
              "  "
            ]
          },
          "metadata": {},
          "execution_count": 3
        }
      ],
      "source": [
        "ac.head()                             # returns a specified number of rows, string from the top"
      ]
    },
    {
      "cell_type": "code",
      "execution_count": 4,
      "metadata": {
        "colab": {
          "base_uri": "https://localhost:8080/"
        },
        "id": "Qc0N3MP99pek",
        "outputId": "cd420ccd-3c6f-42e8-a0d7-dd7bdff924a3"
      },
      "outputs": [
        {
          "output_type": "execute_result",
          "data": {
            "text/plain": [
              "id                        0\n",
              "Gender                30427\n",
              "Age                   30548\n",
              "HasDrivingLicense     30488\n",
              "RegionID              30553\n",
              "Switch               152330\n",
              "VehicleAge            30441\n",
              "PastAccident         152465\n",
              "AnnualPremium             0\n",
              "SalesChannelID            0\n",
              "DaysSinceCreated          0\n",
              "Result                    0\n",
              "dtype: int64"
            ]
          },
          "metadata": {},
          "execution_count": 4
        }
      ],
      "source": [
        "ac.isna().sum()                                 # detect the presence of NULL or NA values "
      ]
    },
    {
      "cell_type": "code",
      "execution_count": 5,
      "metadata": {
        "colab": {
          "base_uri": "https://localhost:8080/"
        },
        "id": "n9tAGcnx9rx5",
        "outputId": "cda9db27-7069-4ddb-de4f-0c526d08004c"
      },
      "outputs": [
        {
          "output_type": "stream",
          "name": "stdout",
          "text": [
            "<class 'pandas.core.frame.DataFrame'>\n",
            "RangeIndex: 304887 entries, 0 to 304886\n",
            "Data columns (total 12 columns):\n",
            " #   Column             Non-Null Count   Dtype  \n",
            "---  ------             --------------   -----  \n",
            " 0   id                 304887 non-null  int64  \n",
            " 1   Gender             274460 non-null  object \n",
            " 2   Age                274339 non-null  float64\n",
            " 3   HasDrivingLicense  274399 non-null  float64\n",
            " 4   RegionID           274334 non-null  float64\n",
            " 5   Switch             152557 non-null  float64\n",
            " 6   VehicleAge         274446 non-null  object \n",
            " 7   PastAccident       152422 non-null  object \n",
            " 8   AnnualPremium      304887 non-null  object \n",
            " 9   SalesChannelID     304887 non-null  int64  \n",
            " 10  DaysSinceCreated   304887 non-null  int64  \n",
            " 11  Result             304887 non-null  int64  \n",
            "dtypes: float64(4), int64(4), object(4)\n",
            "memory usage: 27.9+ MB\n"
          ]
        }
      ],
      "source": [
        "ac.info()                                                  # information about the DataFrame"
      ]
    },
    {
      "cell_type": "code",
      "execution_count": 6,
      "metadata": {
        "colab": {
          "base_uri": "https://localhost:8080/",
          "height": 364
        },
        "id": "x7zWKaDf92OB",
        "outputId": "87ed1f0f-214f-41d8-aed7-b96264ce7cc4"
      },
      "outputs": [
        {
          "output_type": "execute_result",
          "data": {
            "text/plain": [
              "                  id            Age  HasDrivingLicense       RegionID  \\\n",
              "count  304887.000000  274339.000000      274399.000000  274334.000000   \n",
              "mean   190594.098072      38.832561           0.997853      26.408892   \n",
              "std    110022.144283      15.504062           0.046281      13.213345   \n",
              "min         1.000000      20.000000           0.000000       0.000000   \n",
              "25%     95342.500000      25.000000           1.000000      15.000000   \n",
              "50%    190639.000000      36.000000           1.000000      28.000000   \n",
              "75%    285785.500000      49.000000           1.000000      35.000000   \n",
              "max    381109.000000      85.000000           1.000000      52.000000   \n",
              "\n",
              "              Switch  SalesChannelID  DaysSinceCreated         Result  \n",
              "count  152557.000000   304887.000000     304887.000000  304887.000000  \n",
              "mean        0.458281      111.966591        154.272609       0.121970  \n",
              "std         0.498258       54.230069         83.642389       0.327251  \n",
              "min         0.000000        1.000000         10.000000       0.000000  \n",
              "25%         0.000000       26.000000         82.000000       0.000000  \n",
              "50%         0.000000      131.000000        154.000000       0.000000  \n",
              "75%         1.000000      152.000000        227.000000       0.000000  \n",
              "max         1.000000      163.000000        299.000000       1.000000  "
            ],
            "text/html": [
              "\n",
              "  <div id=\"df-b3a977cf-4ea0-4beb-aa31-1c229e7aa82b\">\n",
              "    <div class=\"colab-df-container\">\n",
              "      <div>\n",
              "<style scoped>\n",
              "    .dataframe tbody tr th:only-of-type {\n",
              "        vertical-align: middle;\n",
              "    }\n",
              "\n",
              "    .dataframe tbody tr th {\n",
              "        vertical-align: top;\n",
              "    }\n",
              "\n",
              "    .dataframe thead th {\n",
              "        text-align: right;\n",
              "    }\n",
              "</style>\n",
              "<table border=\"1\" class=\"dataframe\">\n",
              "  <thead>\n",
              "    <tr style=\"text-align: right;\">\n",
              "      <th></th>\n",
              "      <th>id</th>\n",
              "      <th>Age</th>\n",
              "      <th>HasDrivingLicense</th>\n",
              "      <th>RegionID</th>\n",
              "      <th>Switch</th>\n",
              "      <th>SalesChannelID</th>\n",
              "      <th>DaysSinceCreated</th>\n",
              "      <th>Result</th>\n",
              "    </tr>\n",
              "  </thead>\n",
              "  <tbody>\n",
              "    <tr>\n",
              "      <th>count</th>\n",
              "      <td>304887.000000</td>\n",
              "      <td>274339.000000</td>\n",
              "      <td>274399.000000</td>\n",
              "      <td>274334.000000</td>\n",
              "      <td>152557.000000</td>\n",
              "      <td>304887.000000</td>\n",
              "      <td>304887.000000</td>\n",
              "      <td>304887.000000</td>\n",
              "    </tr>\n",
              "    <tr>\n",
              "      <th>mean</th>\n",
              "      <td>190594.098072</td>\n",
              "      <td>38.832561</td>\n",
              "      <td>0.997853</td>\n",
              "      <td>26.408892</td>\n",
              "      <td>0.458281</td>\n",
              "      <td>111.966591</td>\n",
              "      <td>154.272609</td>\n",
              "      <td>0.121970</td>\n",
              "    </tr>\n",
              "    <tr>\n",
              "      <th>std</th>\n",
              "      <td>110022.144283</td>\n",
              "      <td>15.504062</td>\n",
              "      <td>0.046281</td>\n",
              "      <td>13.213345</td>\n",
              "      <td>0.498258</td>\n",
              "      <td>54.230069</td>\n",
              "      <td>83.642389</td>\n",
              "      <td>0.327251</td>\n",
              "    </tr>\n",
              "    <tr>\n",
              "      <th>min</th>\n",
              "      <td>1.000000</td>\n",
              "      <td>20.000000</td>\n",
              "      <td>0.000000</td>\n",
              "      <td>0.000000</td>\n",
              "      <td>0.000000</td>\n",
              "      <td>1.000000</td>\n",
              "      <td>10.000000</td>\n",
              "      <td>0.000000</td>\n",
              "    </tr>\n",
              "    <tr>\n",
              "      <th>25%</th>\n",
              "      <td>95342.500000</td>\n",
              "      <td>25.000000</td>\n",
              "      <td>1.000000</td>\n",
              "      <td>15.000000</td>\n",
              "      <td>0.000000</td>\n",
              "      <td>26.000000</td>\n",
              "      <td>82.000000</td>\n",
              "      <td>0.000000</td>\n",
              "    </tr>\n",
              "    <tr>\n",
              "      <th>50%</th>\n",
              "      <td>190639.000000</td>\n",
              "      <td>36.000000</td>\n",
              "      <td>1.000000</td>\n",
              "      <td>28.000000</td>\n",
              "      <td>0.000000</td>\n",
              "      <td>131.000000</td>\n",
              "      <td>154.000000</td>\n",
              "      <td>0.000000</td>\n",
              "    </tr>\n",
              "    <tr>\n",
              "      <th>75%</th>\n",
              "      <td>285785.500000</td>\n",
              "      <td>49.000000</td>\n",
              "      <td>1.000000</td>\n",
              "      <td>35.000000</td>\n",
              "      <td>1.000000</td>\n",
              "      <td>152.000000</td>\n",
              "      <td>227.000000</td>\n",
              "      <td>0.000000</td>\n",
              "    </tr>\n",
              "    <tr>\n",
              "      <th>max</th>\n",
              "      <td>381109.000000</td>\n",
              "      <td>85.000000</td>\n",
              "      <td>1.000000</td>\n",
              "      <td>52.000000</td>\n",
              "      <td>1.000000</td>\n",
              "      <td>163.000000</td>\n",
              "      <td>299.000000</td>\n",
              "      <td>1.000000</td>\n",
              "    </tr>\n",
              "  </tbody>\n",
              "</table>\n",
              "</div>\n",
              "      <button class=\"colab-df-convert\" onclick=\"convertToInteractive('df-b3a977cf-4ea0-4beb-aa31-1c229e7aa82b')\"\n",
              "              title=\"Convert this dataframe to an interactive table.\"\n",
              "              style=\"display:none;\">\n",
              "        \n",
              "  <svg xmlns=\"http://www.w3.org/2000/svg\" height=\"24px\"viewBox=\"0 0 24 24\"\n",
              "       width=\"24px\">\n",
              "    <path d=\"M0 0h24v24H0V0z\" fill=\"none\"/>\n",
              "    <path d=\"M18.56 5.44l.94 2.06.94-2.06 2.06-.94-2.06-.94-.94-2.06-.94 2.06-2.06.94zm-11 1L8.5 8.5l.94-2.06 2.06-.94-2.06-.94L8.5 2.5l-.94 2.06-2.06.94zm10 10l.94 2.06.94-2.06 2.06-.94-2.06-.94-.94-2.06-.94 2.06-2.06.94z\"/><path d=\"M17.41 7.96l-1.37-1.37c-.4-.4-.92-.59-1.43-.59-.52 0-1.04.2-1.43.59L10.3 9.45l-7.72 7.72c-.78.78-.78 2.05 0 2.83L4 21.41c.39.39.9.59 1.41.59.51 0 1.02-.2 1.41-.59l7.78-7.78 2.81-2.81c.8-.78.8-2.07 0-2.86zM5.41 20L4 18.59l7.72-7.72 1.47 1.35L5.41 20z\"/>\n",
              "  </svg>\n",
              "      </button>\n",
              "      \n",
              "  <style>\n",
              "    .colab-df-container {\n",
              "      display:flex;\n",
              "      flex-wrap:wrap;\n",
              "      gap: 12px;\n",
              "    }\n",
              "\n",
              "    .colab-df-convert {\n",
              "      background-color: #E8F0FE;\n",
              "      border: none;\n",
              "      border-radius: 50%;\n",
              "      cursor: pointer;\n",
              "      display: none;\n",
              "      fill: #1967D2;\n",
              "      height: 32px;\n",
              "      padding: 0 0 0 0;\n",
              "      width: 32px;\n",
              "    }\n",
              "\n",
              "    .colab-df-convert:hover {\n",
              "      background-color: #E2EBFA;\n",
              "      box-shadow: 0px 1px 2px rgba(60, 64, 67, 0.3), 0px 1px 3px 1px rgba(60, 64, 67, 0.15);\n",
              "      fill: #174EA6;\n",
              "    }\n",
              "\n",
              "    [theme=dark] .colab-df-convert {\n",
              "      background-color: #3B4455;\n",
              "      fill: #D2E3FC;\n",
              "    }\n",
              "\n",
              "    [theme=dark] .colab-df-convert:hover {\n",
              "      background-color: #434B5C;\n",
              "      box-shadow: 0px 1px 3px 1px rgba(0, 0, 0, 0.15);\n",
              "      filter: drop-shadow(0px 1px 2px rgba(0, 0, 0, 0.3));\n",
              "      fill: #FFFFFF;\n",
              "    }\n",
              "  </style>\n",
              "\n",
              "      <script>\n",
              "        const buttonEl =\n",
              "          document.querySelector('#df-b3a977cf-4ea0-4beb-aa31-1c229e7aa82b button.colab-df-convert');\n",
              "        buttonEl.style.display =\n",
              "          google.colab.kernel.accessAllowed ? 'block' : 'none';\n",
              "\n",
              "        async function convertToInteractive(key) {\n",
              "          const element = document.querySelector('#df-b3a977cf-4ea0-4beb-aa31-1c229e7aa82b');\n",
              "          const dataTable =\n",
              "            await google.colab.kernel.invokeFunction('convertToInteractive',\n",
              "                                                     [key], {});\n",
              "          if (!dataTable) return;\n",
              "\n",
              "          const docLinkHtml = 'Like what you see? Visit the ' +\n",
              "            '<a target=\"_blank\" href=https://colab.research.google.com/notebooks/data_table.ipynb>data table notebook</a>'\n",
              "            + ' to learn more about interactive tables.';\n",
              "          element.innerHTML = '';\n",
              "          dataTable['output_type'] = 'display_data';\n",
              "          await google.colab.output.renderOutput(dataTable, element);\n",
              "          const docLink = document.createElement('div');\n",
              "          docLink.innerHTML = docLinkHtml;\n",
              "          element.appendChild(docLink);\n",
              "        }\n",
              "      </script>\n",
              "    </div>\n",
              "  </div>\n",
              "  "
            ]
          },
          "metadata": {},
          "execution_count": 6
        }
      ],
      "source": [
        "ac.describe()                                          #returns description of the data in the DataFrame"
      ]
    },
    {
      "cell_type": "code",
      "execution_count": 7,
      "metadata": {
        "colab": {
          "base_uri": "https://localhost:8080/"
        },
        "id": "ejZGzxC5-VDU",
        "outputId": "df30642b-f9bd-4bf4-dff7-db22eb0ba9eb"
      },
      "outputs": [
        {
          "output_type": "execute_result",
          "data": {
            "text/plain": [
              "id                        0\n",
              "Gender                30427\n",
              "Age                   30548\n",
              "HasDrivingLicense     30488\n",
              "RegionID              30553\n",
              "Switch               152330\n",
              "VehicleAge            30441\n",
              "PastAccident         152465\n",
              "AnnualPremium             0\n",
              "SalesChannelID            0\n",
              "DaysSinceCreated          0\n",
              "Result                    0\n",
              "dtype: int64"
            ]
          },
          "metadata": {},
          "execution_count": 7
        }
      ],
      "source": [
        "ac.isnull().sum()                                       # incrementing by one for each instance of a null value"
      ]
    },
    {
      "cell_type": "code",
      "execution_count": 8,
      "metadata": {
        "colab": {
          "base_uri": "https://localhost:8080/"
        },
        "id": "8JjUJ1V5-1SZ",
        "outputId": "fe2dd1d3-6285-4452-9101-16166b70770c"
      },
      "outputs": [
        {
          "output_type": "execute_result",
          "data": {
            "text/plain": [
              "id                        0\n",
              "Gender                30427\n",
              "Age                   30548\n",
              "HasDrivingLicense     30488\n",
              "RegionID              30553\n",
              "Switch               152330\n",
              "VehicleAge            30441\n",
              "PastAccident         152465\n",
              "AnnualPremium             0\n",
              "SalesChannelID            0\n",
              "DaysSinceCreated          0\n",
              "Result                    0\n",
              "dtype: int64"
            ]
          },
          "metadata": {},
          "execution_count": 8
        }
      ],
      "source": [
        "ac.isnull().sum() "
      ]
    },
    {
      "cell_type": "code",
      "execution_count": 9,
      "metadata": {
        "id": "RRt0Tfbc-Z0j"
      },
      "outputs": [],
      "source": [
        "# median = ac[\"Age\"].median() # option 3\n",
        "# ac[\"Age\"].fillna(median, inplace=True)\n",
        "# print('After filling missing values of Age\\n', ac.isna().sum())"
      ]
    },
    {
      "cell_type": "code",
      "execution_count": 10,
      "metadata": {
        "id": "ELJ6Ubir-tbd"
      },
      "outputs": [],
      "source": [
        "#  # option 3\n",
        "# ac[\"Gender\"].fillna(value = 'Male', inplace=True)\n",
        "# print('After filling missing values of Age\\n', ac.isna().sum())"
      ]
    },
    {
      "cell_type": "code",
      "execution_count": 11,
      "metadata": {
        "id": "OlpYgzK2-z1C"
      },
      "outputs": [],
      "source": [
        "#  # option 3\n",
        "# ac[\"HasDrivingLicense\"].fillna(value = '1', inplace=True)\n",
        "# print('After filling missing values of Age\\n', ac.isna().sum())"
      ]
    },
    {
      "cell_type": "code",
      "execution_count": 12,
      "metadata": {
        "id": "D1QV2NCO-84j"
      },
      "outputs": [],
      "source": [
        "# for name in ac.columns:\n",
        "#   ac[name] = ac[name].fillna(method = 'pad')\n",
        "# ac = ac.replace({np.nan : 0})\n",
        "# ac.isnull().sum()"
      ]
    },
    {
      "cell_type": "code",
      "execution_count": 13,
      "metadata": {
        "id": "7L8XTtQS_FfK"
      },
      "outputs": [],
      "source": [
        "ac.drop_duplicates(inplace=True)          #returns the DataFrame with removed duplicate rows or None"
      ]
    },
    {
      "cell_type": "code",
      "execution_count": 14,
      "metadata": {
        "colab": {
          "base_uri": "https://localhost:8080/"
        },
        "id": "73kxfAkO_XDD",
        "outputId": "21345f4c-0a39-43e2-d391-6242aa5b3226"
      },
      "outputs": [
        {
          "output_type": "execute_result",
          "data": {
            "text/plain": [
              "0"
            ]
          },
          "metadata": {},
          "execution_count": 14
        }
      ],
      "source": [
        "duplicatedValues = ac.duplicated()\n",
        "duplicatedValues.sum()"
      ]
    },
    {
      "cell_type": "code",
      "execution_count": 15,
      "metadata": {
        "id": "l_-fxFYF_ck_"
      },
      "outputs": [],
      "source": [
        "# # use scatter_matrix of pandas.plotting     https://pandas.pydata.org/docs/reference/plotting.html\n",
        "# from pandas.plotting import scatter_matrix\n",
        "# scatter_matrix(df[['VehicleAge', 'RegionID', 'HasDrivingLicense']], figsize=(13, 9))"
      ]
    },
    {
      "cell_type": "code",
      "execution_count": 16,
      "metadata": {
        "id": "mr4QYUUTptaa"
      },
      "outputs": [],
      "source": [
        "import seaborn as sns"
      ]
    },
    {
      "cell_type": "code",
      "execution_count": 17,
      "metadata": {
        "id": "HquI8rK9py8V"
      },
      "outputs": [],
      "source": [
        "p_r_ac = pd.DataFrame(ac[ac['Result']==1].groupby(['PastAccident','Result']).size()).reset_index()"
      ]
    },
    {
      "cell_type": "code",
      "execution_count": 18,
      "metadata": {
        "colab": {
          "base_uri": "https://localhost:8080/",
          "height": 296
        },
        "id": "MH65oWYRpzUh",
        "outputId": "c873a3aa-b00f-4a25-b05a-1e92e975c081"
      },
      "outputs": [
        {
          "output_type": "execute_result",
          "data": {
            "text/plain": [
              "<matplotlib.axes._subplots.AxesSubplot at 0x7ff0582aaf40>"
            ]
          },
          "metadata": {},
          "execution_count": 18
        },
        {
          "output_type": "display_data",
          "data": {
            "text/plain": [
              "<Figure size 432x288 with 1 Axes>"
            ],
            "image/png": "[encoded data removed]"
          },
          "metadata": {
            "needs_background": "light"
          }
        }
      ],
      "source": [
        "sns.barplot(data=p_r_ac, x=\"Result\", y=0, hue=\"PastAccident\")"
      ]
    },
    {
      "cell_type": "code",
      "execution_count": 19,
      "metadata": {
        "id": "Ir_e7kIkqQoI"
      },
      "outputs": [],
      "source": [
        "p_r_ac = pd.DataFrame(ac[ac['Result']==1].groupby(['VehicleAge','Result']).size()).reset_index()"
      ]
    },
    {
      "cell_type": "code",
      "execution_count": 20,
      "metadata": {
        "colab": {
          "base_uri": "https://localhost:8080/",
          "height": 296
        },
        "id": "qtNMKPfIqcek",
        "outputId": "14a4449a-968a-4348-a5ea-a79ac521faa5"
      },
      "outputs": [
        {
          "output_type": "execute_result",
          "data": {
            "text/plain": [
              "<matplotlib.axes._subplots.AxesSubplot at 0x7ff05818e040>"
            ]
          },
          "metadata": {},
          "execution_count": 20
        },
        {
          "output_type": "display_data",
          "data": {
            "text/plain": [
              "<Figure size 432x288 with 1 Axes>"
            ],
            "image/png": "[encoded data removed]"
          },
          "metadata": {
            "needs_background": "light"
          }
        }
      ],
      "source": [
        "sns.barplot(data=p_r_ac, x=\"Result\", y=0, hue=\"VehicleAge\")"
      ]
    },
    {
      "cell_type": "code",
      "execution_count": 21,
      "metadata": {
        "colab": {
          "base_uri": "https://localhost:8080/",
          "height": 282
        },
        "id": "4GorlRFuABI5",
        "outputId": "22a0dd81-0a76-4cd8-93d0-e3b54c489281"
      },
      "outputs": [
        {
          "output_type": "execute_result",
          "data": {
            "text/plain": [
              "<matplotlib.axes._subplots.AxesSubplot at 0x7ff0682347f0>"
            ]
          },
          "metadata": {},
          "execution_count": 21
        },
        {
          "output_type": "display_data",
          "data": {
            "text/plain": [
              "<Figure size 432x288 with 1 Axes>"
            ],
            "image/png": "[encoded data removed]"
          },
          "metadata": {
            "needs_background": "light"
          }
        }
      ],
      "source": [
        "# We can also use plot of pandas DataFrame to plot a pair of features: https://pandas.pydata.org/docs/reference/api/pandas.DataFrame.plot.html\n",
        "ac.plot(kind='hist', x='Result', y='Age')"
      ]
    },
    {
      "cell_type": "code",
      "execution_count": 22,
      "metadata": {
        "colab": {
          "base_uri": "https://localhost:8080/",
          "height": 439
        },
        "id": "RwmgwomOawuN",
        "outputId": "8bf838fa-7bbd-4813-8342-0a848b6d4352"
      },
      "outputs": [
        {
          "output_type": "stream",
          "name": "stdout",
          "text": [
            "                 Age         Result\n",
            "count  274339.000000  304887.000000\n",
            "mean       38.832561       0.121970\n",
            "std        15.504062       0.327251\n",
            "min        20.000000       0.000000\n",
            "25%        25.000000       0.000000\n",
            "50%        36.000000       0.000000\n",
            "75%        49.000000       0.000000\n",
            "max        85.000000       1.000000\n"
          ]
        },
        {
          "output_type": "execute_result",
          "data": {
            "text/plain": [
              "<matplotlib.axes._subplots.AxesSubplot at 0x7ff057c19340>"
            ]
          },
          "metadata": {},
          "execution_count": 22
        },
        {
          "output_type": "display_data",
          "data": {
            "text/plain": [
              "<Figure size 432x288 with 1 Axes>"
            ],
            "image/png": "[encoded data removed]"
          },
          "metadata": {
            "needs_background": "light"
          }
        }
      ],
      "source": [
        "# We demonstrate boxplot for 'Age', 'Fare'. boxplot can visualise the distribution of a feature for outlies removal if needed.\n",
        "\n",
        "print(ac[['Age', 'Result']].describe())\n",
        "ac[['Age', 'Result']].boxplot()"
      ]
    },
    {
      "cell_type": "code",
      "execution_count": 23,
      "metadata": {
        "colab": {
          "base_uri": "https://localhost:8080/",
          "height": 973
        },
        "id": "ijdNYQJYAtuG",
        "outputId": "56d69c28-4213-4b83-aaf6-cd7ed4521a5e"
      },
      "outputs": [
        {
          "output_type": "stream",
          "name": "stdout",
          "text": [
            "                         id       Age  HasDrivingLicense  RegionID    Switch  \\\n",
            "id                 1.000000  0.003069          -0.002220 -0.001230 -0.000159   \n",
            "Age                0.003069  1.000000          -0.080243  0.042637 -0.257237   \n",
            "HasDrivingLicense -0.002220 -0.080243           1.000000 -0.002070  0.011623   \n",
            "RegionID          -0.001230  0.042637          -0.002070  1.000000 -0.018831   \n",
            "Switch            -0.000159 -0.257237           0.011623 -0.018831  1.000000   \n",
            "SalesChannelID    -0.003124 -0.576164           0.043844 -0.042514  0.219808   \n",
            "DaysSinceCreated   0.000209 -0.002235          -0.001453 -0.004254  0.002117   \n",
            "Result            -0.002525  0.111939           0.009580  0.011969 -0.337895   \n",
            "\n",
            "                   SalesChannelID  DaysSinceCreated    Result  \n",
            "id                      -0.003124          0.000209 -0.002525  \n",
            "Age                     -0.576164         -0.002235  0.111939  \n",
            "HasDrivingLicense        0.043844         -0.001453  0.009580  \n",
            "RegionID                -0.042514         -0.004254  0.011969  \n",
            "Switch                   0.219808          0.002117 -0.337895  \n",
            "SalesChannelID           1.000000         -0.000127 -0.137533  \n",
            "DaysSinceCreated        -0.000127          1.000000 -0.001025  \n",
            "Result                  -0.137533         -0.001025  1.000000  \n"
          ]
        },
        {
          "output_type": "execute_result",
          "data": {
            "text/plain": [
              "<matplotlib.axes._subplots.AxesSubplot at 0x7ff06aca3f70>"
            ]
          },
          "metadata": {},
          "execution_count": 23
        },
        {
          "output_type": "display_data",
          "data": {
            "text/plain": [
              "<Figure size 720x720 with 2 Axes>"
            ],
            "image/png": "[encoded data removed]"
          },
          "metadata": {
            "needs_background": "light"
          }
        }
      ],
      "source": [
        "corr_matrix = ac.corr()\n",
        "print(corr_matrix)\n",
        "\n",
        "import seaborn as sns\n",
        "plt.figure(figsize=(10,10))\n",
        "sns.heatmap(corr_matrix, vmax=0.9, square=True, annot=True, linewidths=0.3, cmap=\"YlGnBu\", fmt=\".1f\")"
      ]
    },
    {
      "cell_type": "code",
      "execution_count": 24,
      "metadata": {
        "colab": {
          "base_uri": "https://localhost:8080/",
          "height": 282
        },
        "id": "oHEuezQ4BC-w",
        "outputId": "23c5ab1e-41e0-4b6b-a3c6-8b113cbdc1ad"
      },
      "outputs": [
        {
          "output_type": "execute_result",
          "data": {
            "text/plain": [
              "<matplotlib.axes._subplots.AxesSubplot at 0x7ff057b02400>"
            ]
          },
          "metadata": {},
          "execution_count": 24
        },
        {
          "output_type": "display_data",
          "data": {
            "text/plain": [
              "<Figure size 432x288 with 1 Axes>"
            ],
            "image/png": "[encoded data removed]"
          },
          "metadata": {
            "needs_background": "light"
          }
        }
      ],
      "source": [
        "ac['Age'].hist()"
      ]
    },
    {
      "cell_type": "markdown",
      "metadata": {
        "id": "NPtmp4Q-qmaw"
      },
      "source": [
        "**DATA PRE-PROCESSING**"
      ]
    },
    {
      "cell_type": "code",
      "execution_count": 25,
      "metadata": {
        "id": "pPMN36vpCCZC"
      },
      "outputs": [],
      "source": [
        "from sklearn.preprocessing import MinMaxScaler"
      ]
    },
    {
      "cell_type": "code",
      "execution_count": 26,
      "metadata": {
        "id": "hd1LRgfLFAcS"
      },
      "outputs": [],
      "source": [
        "ac['AnnualPremium'] = ac['AnnualPremium'].str.replace('£','').str.replace(',','').astype(float)"
      ]
    },
    {
      "cell_type": "code",
      "execution_count": 27,
      "metadata": {
        "id": "T1j84kb9vt1Z"
      },
      "outputs": [],
      "source": [
        "ac['Switch'] = ac['Switch'].astype('O')"
      ]
    },
    {
      "cell_type": "code",
      "execution_count": 28,
      "metadata": {
        "id": "NrS0wOXSFOEU"
      },
      "outputs": [],
      "source": [
        "X = ac.iloc[:,1:-1]\n",
        "Y = ac.iloc[ :, -1:]\n",
        "from sklearn.model_selection import train_test_split\n",
        "\n",
        "# 70% of the data for traingin, 30% for test, i.e., test_size=0.3\n",
        "X_train, X_test, y_train, y_test = train_test_split(X, Y, test_size=0.3, random_state=42, stratify=Y)\n"
      ]
    },
    {
      "cell_type": "code",
      "execution_count": 29,
      "metadata": {
        "colab": {
          "base_uri": "https://localhost:8080/",
          "height": 270
        },
        "id": "Yr9UGPMuLW4Y",
        "outputId": "35ef340c-63be-4d63-dbcb-80d4a3963b57"
      },
      "outputs": [
        {
          "output_type": "execute_result",
          "data": {
            "text/plain": [
              "        Gender   Age  HasDrivingLicense  RegionID Switch VehicleAge  \\\n",
              "204019    Male  62.0                1.0      28.0    NaN   1-2 Year   \n",
              "69711     Male   NaN                NaN      28.0    NaN   1-2 Year   \n",
              "118065    Male   NaN                1.0      30.0    0.0        NaN   \n",
              "245041  Female  52.0                1.0       NaN    NaN   1-2 Year   \n",
              "127531    Male   NaN                1.0      28.0    NaN   < 1 Year   \n",
              "\n",
              "       PastAccident  AnnualPremium  SalesChannelID  DaysSinceCreated  \n",
              "204019          NaN        1958.85             124               199  \n",
              "69711           NaN        1981.20             154               102  \n",
              "118065          NaN        1415.60             152                36  \n",
              "245041           No        1419.30             152               109  \n",
              "127531          Yes        1328.15             152                19  "
            ],
            "text/html": [
              "\n",
              "  <div id=\"df-defc7b9b-3c7b-482b-accb-5844cb714ab6\">\n",
              "    <div class=\"colab-df-container\">\n",
              "      <div>\n",
              "<style scoped>\n",
              "    .dataframe tbody tr th:only-of-type {\n",
              "        vertical-align: middle;\n",
              "    }\n",
              "\n",
              "    .dataframe tbody tr th {\n",
              "        vertical-align: top;\n",
              "    }\n",
              "\n",
              "    .dataframe thead th {\n",
              "        text-align: right;\n",
              "    }\n",
              "</style>\n",
              "<table border=\"1\" class=\"dataframe\">\n",
              "  <thead>\n",
              "    <tr style=\"text-align: right;\">\n",
              "      <th></th>\n",
              "      <th>Gender</th>\n",
              "      <th>Age</th>\n",
              "      <th>HasDrivingLicense</th>\n",
              "      <th>RegionID</th>\n",
              "      <th>Switch</th>\n",
              "      <th>VehicleAge</th>\n",
              "      <th>PastAccident</th>\n",
              "      <th>AnnualPremium</th>\n",
              "      <th>SalesChannelID</th>\n",
              "      <th>DaysSinceCreated</th>\n",
              "    </tr>\n",
              "  </thead>\n",
              "  <tbody>\n",
              "    <tr>\n",
              "      <th>204019</th>\n",
              "      <td>Male</td>\n",
              "      <td>62.0</td>\n",
              "      <td>1.0</td>\n",
              "      <td>28.0</td>\n",
              "      <td>NaN</td>\n",
              "      <td>1-2 Year</td>\n",
              "      <td>NaN</td>\n",
              "      <td>1958.85</td>\n",
              "      <td>124</td>\n",
              "      <td>199</td>\n",
              "    </tr>\n",
              "    <tr>\n",
              "      <th>69711</th>\n",
              "      <td>Male</td>\n",
              "      <td>NaN</td>\n",
              "      <td>NaN</td>\n",
              "      <td>28.0</td>\n",
              "      <td>NaN</td>\n",
              "      <td>1-2 Year</td>\n",
              "      <td>NaN</td>\n",
              "      <td>1981.20</td>\n",
              "      <td>154</td>\n",
              "      <td>102</td>\n",
              "    </tr>\n",
              "    <tr>\n",
              "      <th>118065</th>\n",
              "      <td>Male</td>\n",
              "      <td>NaN</td>\n",
              "      <td>1.0</td>\n",
              "      <td>30.0</td>\n",
              "      <td>0.0</td>\n",
              "      <td>NaN</td>\n",
              "      <td>NaN</td>\n",
              "      <td>1415.60</td>\n",
              "      <td>152</td>\n",
              "      <td>36</td>\n",
              "    </tr>\n",
              "    <tr>\n",
              "      <th>245041</th>\n",
              "      <td>Female</td>\n",
              "      <td>52.0</td>\n",
              "      <td>1.0</td>\n",
              "      <td>NaN</td>\n",
              "      <td>NaN</td>\n",
              "      <td>1-2 Year</td>\n",
              "      <td>No</td>\n",
              "      <td>1419.30</td>\n",
              "      <td>152</td>\n",
              "      <td>109</td>\n",
              "    </tr>\n",
              "    <tr>\n",
              "      <th>127531</th>\n",
              "      <td>Male</td>\n",
              "      <td>NaN</td>\n",
              "      <td>1.0</td>\n",
              "      <td>28.0</td>\n",
              "      <td>NaN</td>\n",
              "      <td>&lt; 1 Year</td>\n",
              "      <td>Yes</td>\n",
              "      <td>1328.15</td>\n",
              "      <td>152</td>\n",
              "      <td>19</td>\n",
              "    </tr>\n",
              "  </tbody>\n",
              "</table>\n",
              "</div>\n",
              "      <button class=\"colab-df-convert\" onclick=\"convertToInteractive('df-defc7b9b-3c7b-482b-accb-5844cb714ab6')\"\n",
              "              title=\"Convert this dataframe to an interactive table.\"\n",
              "              style=\"display:none;\">\n",
              "        \n",
              "  <svg xmlns=\"http://www.w3.org/2000/svg\" height=\"24px\"viewBox=\"0 0 24 24\"\n",
              "       width=\"24px\">\n",
              "    <path d=\"M0 0h24v24H0V0z\" fill=\"none\"/>\n",
              "    <path d=\"M18.56 5.44l.94 2.06.94-2.06 2.06-.94-2.06-.94-.94-2.06-.94 2.06-2.06.94zm-11 1L8.5 8.5l.94-2.06 2.06-.94-2.06-.94L8.5 2.5l-.94 2.06-2.06.94zm10 10l.94 2.06.94-2.06 2.06-.94-2.06-.94-.94-2.06-.94 2.06-2.06.94z\"/><path d=\"M17.41 7.96l-1.37-1.37c-.4-.4-.92-.59-1.43-.59-.52 0-1.04.2-1.43.59L10.3 9.45l-7.72 7.72c-.78.78-.78 2.05 0 2.83L4 21.41c.39.39.9.59 1.41.59.51 0 1.02-.2 1.41-.59l7.78-7.78 2.81-2.81c.8-.78.8-2.07 0-2.86zM5.41 20L4 18.59l7.72-7.72 1.47 1.35L5.41 20z\"/>\n",
              "  </svg>\n",
              "      </button>\n",
              "      \n",
              "  <style>\n",
              "    .colab-df-container {\n",
              "      display:flex;\n",
              "      flex-wrap:wrap;\n",
              "      gap: 12px;\n",
              "    }\n",
              "\n",
              "    .colab-df-convert {\n",
              "      background-color: #E8F0FE;\n",
              "      border: none;\n",
              "      border-radius: 50%;\n",
              "      cursor: pointer;\n",
              "      display: none;\n",
              "      fill: #1967D2;\n",
              "      height: 32px;\n",
              "      padding: 0 0 0 0;\n",
              "      width: 32px;\n",
              "    }\n",
              "\n",
              "    .colab-df-convert:hover {\n",
              "      background-color: #E2EBFA;\n",
              "      box-shadow: 0px 1px 2px rgba(60, 64, 67, 0.3), 0px 1px 3px 1px rgba(60, 64, 67, 0.15);\n",
              "      fill: #174EA6;\n",
              "    }\n",
              "\n",
              "    [theme=dark] .colab-df-convert {\n",
              "      background-color: #3B4455;\n",
              "      fill: #D2E3FC;\n",
              "    }\n",
              "\n",
              "    [theme=dark] .colab-df-convert:hover {\n",
              "      background-color: #434B5C;\n",
              "      box-shadow: 0px 1px 3px 1px rgba(0, 0, 0, 0.15);\n",
              "      filter: drop-shadow(0px 1px 2px rgba(0, 0, 0, 0.3));\n",
              "      fill: #FFFFFF;\n",
              "    }\n",
              "  </style>\n",
              "\n",
              "      <script>\n",
              "        const buttonEl =\n",
              "          document.querySelector('#df-defc7b9b-3c7b-482b-accb-5844cb714ab6 button.colab-df-convert');\n",
              "        buttonEl.style.display =\n",
              "          google.colab.kernel.accessAllowed ? 'block' : 'none';\n",
              "\n",
              "        async function convertToInteractive(key) {\n",
              "          const element = document.querySelector('#df-defc7b9b-3c7b-482b-accb-5844cb714ab6');\n",
              "          const dataTable =\n",
              "            await google.colab.kernel.invokeFunction('convertToInteractive',\n",
              "                                                     [key], {});\n",
              "          if (!dataTable) return;\n",
              "\n",
              "          const docLinkHtml = 'Like what you see? Visit the ' +\n",
              "            '<a target=\"_blank\" href=https://colab.research.google.com/notebooks/data_table.ipynb>data table notebook</a>'\n",
              "            + ' to learn more about interactive tables.';\n",
              "          element.innerHTML = '';\n",
              "          dataTable['output_type'] = 'display_data';\n",
              "          await google.colab.output.renderOutput(dataTable, element);\n",
              "          const docLink = document.createElement('div');\n",
              "          docLink.innerHTML = docLinkHtml;\n",
              "          element.appendChild(docLink);\n",
              "        }\n",
              "      </script>\n",
              "    </div>\n",
              "  </div>\n",
              "  "
            ]
          },
          "metadata": {},
          "execution_count": 29
        }
      ],
      "source": [
        "X_train.head()"
      ]
    },
    {
      "cell_type": "code",
      "execution_count": 30,
      "metadata": {
        "id": "0kmcljUELisz"
      },
      "outputs": [],
      "source": [
        "from sklearn.pipeline import Pipeline\n",
        "from sklearn.impute import SimpleImputer\n",
        "from sklearn.preprocessing import OneHotEncoder, StandardScaler\n",
        "from sklearn.compose import ColumnTransformer\n",
        "from sklearn import metrics"
      ]
    },
    {
      "cell_type": "code",
      "execution_count": 31,
      "metadata": {
        "id": "ud-peJadF5KD"
      },
      "outputs": [],
      "source": [
        "X_train['RegionID'].fillna(X_train['RegionID'].mode()[0],inplace = True)\n",
        "X_test['RegionID'].fillna(X_train['RegionID'].mode()[0],inplace = True)\n",
        "X_train['SalesChannelID'].fillna(X_train['SalesChannelID'].mode()[0],inplace = True)\n",
        "X_test['SalesChannelID'].fillna(X_train['SalesChannelID'].mode()[0],inplace = True)"
      ]
    },
    {
      "cell_type": "code",
      "execution_count": 32,
      "metadata": {
        "colab": {
          "base_uri": "https://localhost:8080/"
        },
        "id": "5ZkzikFmIraS",
        "outputId": "b297b7f9-a6ac-45d2-9bce-d659e80b11a2"
      },
      "outputs": [
        {
          "output_type": "execute_result",
          "data": {
            "text/plain": [
              "(213420, 10)"
            ]
          },
          "metadata": {},
          "execution_count": 32
        }
      ],
      "source": [
        "X_train.shape"
      ]
    },
    {
      "cell_type": "code",
      "execution_count": 33,
      "metadata": {
        "id": "PwPcoxtwJu3t"
      },
      "outputs": [],
      "source": [
        "#from sklearn.compose import make_column_transformer\n",
        "\n",
        "# transformer for categorical features\n",
        "categorical_features = ['Gender', 'VehicleAge', 'PastAccident','Switch']\n",
        "categorical_transformer = Pipeline(\n",
        "    [\n",
        "        ('imputer_cat', SimpleImputer(strategy = 'most_frequent')),\n",
        "        ('onehot', OneHotEncoder(handle_unknown = 'ignore'))\n",
        "    ]\n",
        ")\n",
        "\n",
        "# transformer for numerical features\n",
        "numeric_features = ['Age', 'DaysSinceCreated','RegionID','SalesChannelID','AnnualPremium']\n",
        "numeric_transformer = Pipeline(\n",
        "    [\n",
        "        ('imputer_num', SimpleImputer(strategy = 'mean')),\n",
        "        ('scaler', StandardScaler())\n",
        "    ]\n",
        ")\n",
        "\n",
        "# combine them in a single ColumnTransformer\n",
        "preprocessor = ColumnTransformer(\n",
        "    [\n",
        "        ('categoricals', categorical_transformer, categorical_features),\n",
        "        ('numericals', numeric_transformer, numeric_features)\n",
        "    ],\n",
        "    remainder = 'drop'\n",
        ")"
      ]
    },
    {
      "cell_type": "code",
      "execution_count": 34,
      "metadata": {
        "colab": {
          "base_uri": "https://localhost:8080/"
        },
        "id": "eal6WozxIYTI",
        "outputId": "db43fc86-273c-4b40-a524-ddf63fa52b9b"
      },
      "outputs": [
        {
          "output_type": "stream",
          "name": "stdout",
          "text": [
            "(213420, 14)\n"
          ]
        }
      ],
      "source": [
        "X_train_processed = preprocessor.fit_transform(X_train) # fit and transform X_train\n",
        "X_test_processed = preprocessor.transform(X_test) # transform X_test using the model fitted on X_train\n",
        "\n",
        "# np.set_printoptions(threshold=np.inf, linewidth=np.inf, suppress=True, precision=2)\n",
        "print(X_train_processed.shape)"
      ]
    },
    {
      "cell_type": "markdown",
      "metadata": {
        "id": "RfRBiQirq0nD"
      },
      "source": [
        "**MODEL IMPLEMENTATION AND PERFORMANCE EVALUATION**"
      ]
    },
    {
      "cell_type": "code",
      "execution_count": 35,
      "metadata": {
        "colab": {
          "base_uri": "https://localhost:8080/"
        },
        "id": "CgtLXbHMKc0V",
        "outputId": "d24a488f-0b17-4f13-a174-19880282f193"
      },
      "outputs": [
        {
          "output_type": "stream",
          "name": "stdout",
          "text": [
            "Accuracy Using Logistic Regression :  0.88\n",
            "classification report Using Logistic Regression : \n",
            "               precision    recall  f1-score   support\n",
            "\n",
            "           0       1.00      0.88      0.94     91467\n",
            "           1       0.00      0.00      0.00         0\n",
            "\n",
            "    accuracy                           0.88     91467\n",
            "   macro avg       0.50      0.44      0.47     91467\n",
            "weighted avg       1.00      0.88      0.94     91467\n",
            "\n",
            "Recall Using Logistic Regression :  0.88\n",
            "Precision Using Logistic Regression :  1.0\n",
            "F1-Score Using Logistic Regression :  0.94\n",
            "Confusion Matrix Using Logistic Regression :  [[80311 11156]\n",
            " [    0     0]]\n"
          ]
        }
      ],
      "source": [
        "from sklearn import linear_model\n",
        "logr = linear_model.LogisticRegression() \n",
        "logr.fit(X_train_processed,y_train)\n",
        "y_pred = logr.predict(X_test_processed)\n",
        "print(\"Accuracy Using Logistic Regression : \", round(metrics.accuracy_score(y_pred,y_test['Result'].values),2))\n",
        "print(\"classification report Using Logistic Regression : \\n\", metrics.classification_report(y_pred,y_test['Result'].values))\n",
        "print(\"Recall Using Logistic Regression : \", round(metrics.recall_score(y_pred,y_test['Result'].values,average = 'weighted'),2))\n",
        "print(\"Precision Using Logistic Regression : \", round(metrics.precision_score(y_pred,y_test['Result'].values,average = 'weighted'),2))\n",
        "print(\"F1-Score Using Logistic Regression : \", round(metrics.f1_score(y_pred,y_test['Result'].values,average = 'weighted'),2))\n",
        "print(\"Confusion Matrix Using Logistic Regression : \", metrics.confusion_matrix(y_pred,y_test['Result'].values))"
      ]
    },
    {
      "cell_type": "code",
      "execution_count": 36,
      "metadata": {
        "colab": {
          "base_uri": "https://localhost:8080/",
          "height": 279
        },
        "id": "HGUtM-AIzucG",
        "outputId": "79ad8459-5499-4aed-929f-768f0e6b0e25"
      },
      "outputs": [
        {
          "output_type": "display_data",
          "data": {
            "text/plain": [
              "<Figure size 432x288 with 1 Axes>"
            ],
            "image/png": "[encoded data removed]"
          },
          "metadata": {
            "needs_background": "light"
          }
        }
      ],
      "source": [
        "y_pred_proba = logr.predict_proba(X_test_processed)[::,1]\n",
        "fpr, tpr, _ = metrics.roc_curve(y_test,  y_pred_proba)\n",
        "\n",
        "plt.plot(fpr,tpr)\n",
        "plt.ylabel('True Positive Rate')\n",
        "plt.xlabel('False Positive Rate')\n",
        "plt.show()\n"
      ]
    },
    {
      "cell_type": "code",
      "execution_count": 37,
      "metadata": {
        "colab": {
          "base_uri": "https://localhost:8080/"
        },
        "id": "WFdGJBTUI4MC",
        "outputId": "cdceeb4d-8b67-47ce-91d4-08372f4554ae"
      },
      "outputs": [
        {
          "output_type": "stream",
          "name": "stdout",
          "text": [
            "Accuracy Using KNeighborsClassifier :  0.86\n",
            "classification report Using KNeighborsClassifier : \n",
            "               precision    recall  f1-score   support\n",
            "\n",
            "           0       0.96      0.89      0.92     86752\n",
            "           1       0.13      0.30      0.18      4715\n",
            "\n",
            "    accuracy                           0.86     91467\n",
            "   macro avg       0.54      0.59      0.55     91467\n",
            "weighted avg       0.92      0.86      0.88     91467\n",
            "\n",
            "Recall Using KNeighborsClassifier :  0.86\n",
            "Precision Using KNeighborsClassifier :  0.92\n",
            "F1-Score Using KNeighborsClassifier :  0.88\n",
            "Confusion Matrix Using KNeighborsClassifier :  [[76992  9760]\n",
            " [ 3319  1396]]\n"
          ]
        }
      ],
      "source": [
        "from sklearn.neighbors import KNeighborsClassifier\n",
        "clf = KNeighborsClassifier(n_neighbors = 5)\n",
        "clf.fit(X_train_processed, y_train)\n",
        "y_pred = clf.predict(X_test_processed)\n",
        "print(\"Accuracy Using KNeighborsClassifier : \", round(metrics.accuracy_score(y_pred,y_test['Result'].values),2))\n",
        "print(\"classification report Using KNeighborsClassifier : \\n\", metrics.classification_report(y_pred,y_test['Result'].values))\n",
        "print(\"Recall Using KNeighborsClassifier : \", round(metrics.recall_score(y_pred,y_test['Result'].values,average = 'weighted'),2))\n",
        "print(\"Precision Using KNeighborsClassifier : \", round(metrics.precision_score(y_pred,y_test['Result'].values,average = 'weighted'),2))\n",
        "print(\"F1-Score Using KNeighborsClassifier : \", round(metrics.f1_score(y_pred,y_test['Result'].values,average = 'weighted'),2))\n",
        "print(\"Confusion Matrix Using KNeighborsClassifier : \", metrics.confusion_matrix(y_pred,y_test['Result'].values))"
      ]
    },
    {
      "cell_type": "code",
      "execution_count": 38,
      "metadata": {
        "colab": {
          "base_uri": "https://localhost:8080/",
          "height": 279
        },
        "id": "t_nmTVBm0daH",
        "outputId": "737c2736-d4d5-4f28-9784-e517fc9c8a26"
      },
      "outputs": [
        {
          "output_type": "display_data",
          "data": {
            "text/plain": [
              "<Figure size 432x288 with 1 Axes>"
            ],
            "image/png": "[encoded data removed]"
          },
          "metadata": {
            "needs_background": "light"
          }
        }
      ],
      "source": [
        "y_pred_clf = clf.predict_proba(X_test_processed)[::,1]\n",
        "fpr, tpr, _ = metrics.roc_curve(y_test,  y_pred_proba)\n",
        "\n",
        "plt.plot(fpr,tpr)\n",
        "plt.ylabel('True Positive Rate')\n",
        "plt.xlabel('False Positive Rate')\n",
        "plt.show()"
      ]
    },
    {
      "cell_type": "code",
      "source": [
        "from sklearn.ensemble import RandomForestClassifier\n",
        "clf = RandomForestClassifier(max_depth=2, random_state=42)\n",
        "clf.fit(X_train_processed,y_train)\n",
        "y_pred = clf.predict(X_test_processed)\n",
        "print(\"Accuracy Using RandomForestClassifier : \", round(metrics.accuracy_score(y_pred,y_test['Result'].values),2))\n",
        "print(\"classification report Using RandomForestClassifier : \\n\", metrics.classification_report(y_pred,y_test['Result'].values))\n",
        "print(\"Recall Using RandomForestClassifier : \", round(metrics.recall_score(y_pred,y_test['Result'].values,average = 'weighted'),2))\n",
        "print(\"Precision Using RandomForestClassifier : \", round(metrics.precision_score(y_pred,y_test['Result'].values,average = 'weighted'),2))\n",
        "print(\"F1-Score Using RandomForestClassifier : \", round(metrics.f1_score(y_pred,y_test['Result'].values,average = 'weighted'),2))\n",
        "print(\"Confusion Matrix Using RandomForestClassifier : \", metrics.confusion_matrix(y_pred,y_test['Result'].values))"
      ],
      "metadata": {
        "colab": {
          "base_uri": "https://localhost:8080/"
        },
        "id": "_g8m6Bmq96uu",
        "outputId": "ce884f45-b1e6-44eb-afb3-b8840bde8c1f"
      },
      "execution_count": 39,
      "outputs": [
        {
          "output_type": "stream",
          "name": "stdout",
          "text": [
            "Accuracy Using RandomForestClassifier :  0.88\n",
            "classification report Using RandomForestClassifier : \n",
            "               precision    recall  f1-score   support\n",
            "\n",
            "           0       1.00      0.88      0.94     91467\n",
            "           1       0.00      0.00      0.00         0\n",
            "\n",
            "    accuracy                           0.88     91467\n",
            "   macro avg       0.50      0.44      0.47     91467\n",
            "weighted avg       1.00      0.88      0.94     91467\n",
            "\n",
            "Recall Using RandomForestClassifier :  0.88\n",
            "Precision Using RandomForestClassifier :  1.0\n",
            "F1-Score Using RandomForestClassifier :  0.94\n",
            "Confusion Matrix Using RandomForestClassifier :  [[80311 11156]\n",
            " [    0     0]]\n"
          ]
        }
      ]
    },
    {
      "cell_type": "code",
      "source": [
        "y_pred_clf = clf.predict_proba(X_test_processed)[::,1]\n",
        "fpr, tpr, _ = metrics.roc_curve(y_test,  y_pred_proba)\n",
        "\n",
        "plt.plot(fpr,tpr)\n",
        "plt.ylabel('True Positive Rate')\n",
        "plt.xlabel('False Positive Rate')\n",
        "plt.show()"
      ],
      "metadata": {
        "colab": {
          "base_uri": "https://localhost:8080/",
          "height": 279
        },
        "id": "mGDn0S04-acg",
        "outputId": "d5a86626-cfe8-4ab0-e9a2-1d554bd980ed"
      },
      "execution_count": 40,
      "outputs": [
        {
          "output_type": "display_data",
          "data": {
            "text/plain": [
              "<Figure size 432x288 with 1 Axes>"
            ],
            "image/png": "[encoded data removed]"
          },
          "metadata": {
            "needs_background": "light"
          }
        }
      ]
    }
  ],
  "metadata": {
    "colab": {
      "provenance": [],
      "toc_visible": true
    },
    "kernelspec": {
      "display_name": "Python 3",
      "name": "python3"
    },
    "language_info": {
      "name": "python"
    }
  },
  "nbformat": 4,
  "nbformat_minor": 0
}